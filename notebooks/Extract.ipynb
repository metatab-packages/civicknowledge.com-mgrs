{
 "cells": [
  {
   "cell_type": "code",
   "execution_count": 16,
   "metadata": {},
   "outputs": [],
   "source": [
    "import seaborn as sns\n",
    "import metapack as mp\n",
    "import pandas as pd\n",
    "import geopandas as gpd\n",
    "import numpy as np\n",
    "import matplotlib.pyplot as plt\n",
    "from IPython.display import display \n",
    "from shapely.wkt import loads \n",
    "\n",
    "%matplotlib inline\n",
    "sns.set_context('notebook')\n",
    "mp.jupyter.init()\n"
   ]
  },
  {
   "cell_type": "code",
   "execution_count": 2,
   "metadata": {},
   "outputs": [
    {
     "data": {
      "text/html": [
       "<h1>MGRS/UTM Grid</h1>\n",
       "<p><code>civicknowledge.com-mgrs-1.1.1</code> Last Update: 2021-02-09T18:58:00</p>\n",
       "<p><em>Military Grid Reference System grid polygons</em></p>\n",
       "<h2>Contacts</h2>\n",
       "<ul>\n",
       "<li><strong>Wrangler</strong> <a href=\"mailto:eric@civicknowledge.com\">Eric Busboom</a>, <a href=\"http://civicknowledge.com\">Civic Knowledge</a></li>\n",
       "</ul>\n",
       "<h2>References</h2>\n",
       "<ul><li> <strong>utm_grid_source</string>, <em>data/utm-grid.csv</em>. </li><li> <strong>geohash_pkg</string>, <em>metapack+http://library.metatab.org/civicknowledge.com-geohash-us.csv</em>. </li><li> <strong>us_states</string>, <em>censusgeo://2019/5/US/state</em>. </li><ul>"
      ],
      "text/plain": [
       "# MGRS/UTM Grid\n",
       "`civicknowledge.com-mgrs-1.1.1` Last Update: 2021-02-09T18:58:00\n",
       "\n",
       "_Military Grid Reference System grid polygons_\n",
       "\n",
       "\n",
       "\n",
       "\n",
       " \n",
       "\n",
       "## Contacts\n",
       "\n",
       "* **Wrangler** [Eric Busboom](mailto:eric@civicknowledge.com), [Civic Knowledge](http://civicknowledge.com)\n",
       "\n",
       "\n",
       "## References\n",
       "<ul><li> <strong>utm_grid_source</string>, <em>data/utm-grid.csv</em>. </li><li> <strong>geohash_pkg</string>, <em>metapack+http://library.metatab.org/civicknowledge.com-geohash-us.csv</em>. </li><li> <strong>us_states</string>, <em>censusgeo://2019/5/US/state</em>. </li><ul>\n"
      ]
     },
     "execution_count": 2,
     "metadata": {},
     "output_type": "execute_result"
    }
   ],
   "source": [
    "#pkg = mp.jupyter.open_package()\n",
    "pkg = mp.jupyter.open_source_package()\n",
    "pkg"
   ]
  },
  {
   "cell_type": "code",
   "execution_count": 55,
   "metadata": {},
   "outputs": [
    {
     "data": {
      "text/html": [
       "<div>\n",
       "<style scoped>\n",
       "    .dataframe tbody tr th:only-of-type {\n",
       "        vertical-align: middle;\n",
       "    }\n",
       "\n",
       "    .dataframe tbody tr th {\n",
       "        vertical-align: top;\n",
       "    }\n",
       "\n",
       "    .dataframe thead th {\n",
       "        text-align: right;\n",
       "    }\n",
       "</style>\n",
       "<table border=\"1\" class=\"dataframe\">\n",
       "  <thead>\n",
       "    <tr style=\"text-align: right;\">\n",
       "      <th></th>\n",
       "      <th>geometry</th>\n",
       "      <th>zone</th>\n",
       "      <th>row</th>\n",
       "      <th>west_value</th>\n",
       "      <th>cm_value</th>\n",
       "      <th>east_value</th>\n",
       "      <th>zone_r</th>\n",
       "    </tr>\n",
       "  </thead>\n",
       "  <tbody>\n",
       "    <tr>\n",
       "      <th>1085</th>\n",
       "      <td>MULTIPOLYGON (((-179.99999 -72.00000, -179.000...</td>\n",
       "      <td>1</td>\n",
       "      <td>C</td>\n",
       "      <td>180W</td>\n",
       "      <td>177W</td>\n",
       "      <td>174W</td>\n",
       "      <td>01C</td>\n",
       "    </tr>\n",
       "    <tr>\n",
       "      <th>1158</th>\n",
       "      <td>MULTIPOLYGON (((-179.99999 -64.00000, -179.000...</td>\n",
       "      <td>1</td>\n",
       "      <td>D</td>\n",
       "      <td>180W</td>\n",
       "      <td>177W</td>\n",
       "      <td>174W</td>\n",
       "      <td>01D</td>\n",
       "    </tr>\n",
       "    <tr>\n",
       "      <th>1032</th>\n",
       "      <td>MULTIPOLYGON (((-179.99999 -56.00000, -179.000...</td>\n",
       "      <td>1</td>\n",
       "      <td>E</td>\n",
       "      <td>180W</td>\n",
       "      <td>177W</td>\n",
       "      <td>174W</td>\n",
       "      <td>01E</td>\n",
       "    </tr>\n",
       "    <tr>\n",
       "      <th>789</th>\n",
       "      <td>MULTIPOLYGON (((-179.99999 -48.00000, -179.000...</td>\n",
       "      <td>1</td>\n",
       "      <td>F</td>\n",
       "      <td>180W</td>\n",
       "      <td>177W</td>\n",
       "      <td>174W</td>\n",
       "      <td>01F</td>\n",
       "    </tr>\n",
       "    <tr>\n",
       "      <th>999</th>\n",
       "      <td>MULTIPOLYGON (((-179.99999 -40.00000, -179.000...</td>\n",
       "      <td>1</td>\n",
       "      <td>G</td>\n",
       "      <td>180W</td>\n",
       "      <td>177W</td>\n",
       "      <td>174W</td>\n",
       "      <td>01G</td>\n",
       "    </tr>\n",
       "  </tbody>\n",
       "</table>\n",
       "</div>"
      ],
      "text/plain": [
       "                                               geometry  zone row west_value  \\\n",
       "1085  MULTIPOLYGON (((-179.99999 -72.00000, -179.000...     1   C       180W   \n",
       "1158  MULTIPOLYGON (((-179.99999 -64.00000, -179.000...     1   D       180W   \n",
       "1032  MULTIPOLYGON (((-179.99999 -56.00000, -179.000...     1   E       180W   \n",
       "789   MULTIPOLYGON (((-179.99999 -48.00000, -179.000...     1   F       180W   \n",
       "999   MULTIPOLYGON (((-179.99999 -40.00000, -179.000...     1   G       180W   \n",
       "\n",
       "     cm_value east_value zone_r  \n",
       "1085     177W       174W    01C  \n",
       "1158     177W       174W    01D  \n",
       "1032     177W       174W    01E  \n",
       "789      177W       174W    01F  \n",
       "999      177W       174W    01G  "
      ]
     },
     "execution_count": 55,
     "metadata": {},
     "output_type": "execute_result"
    }
   ],
   "source": [
    "s = pkg.reference('utm_grid_source').dataframe()\n",
    "s.columns = ['geometry','fid','zone','row','west_value','cm_value','east_value']\n",
    "s['geometry'] = s.geometry.apply(loads)\n",
    "s = s[s.west_value != 'NoZN']\n",
    "s = gpd.GeoDataFrame(s, geometry='geometry', crs=4326)\n",
    "s['zone_r'] = s.apply(lambda r: f\"{r.zone:02d}{r.row}\", axis=1)\n",
    "s = s.drop(columns=['fid']).sort_values('zone_r')\n",
    "s.head()"
   ]
  },
  {
   "cell_type": "code",
   "execution_count": 35,
   "metadata": {},
   "outputs": [],
   "source": []
  },
  {
   "cell_type": "code",
   "execution_count": 6,
   "metadata": {},
   "outputs": [
    {
     "data": {
      "text/plain": [
       "<AxesSubplot:>"
      ]
     },
     "execution_count": 6,
     "metadata": {},
     "output_type": "execute_result"
    },
    {
     "data": {
      "image/png": "[encoded data removed]",
      "text/plain": [
       "<Figure size 720x720 with 1 Axes>"
      ]
     },
     "metadata": {
      "needs_background": "light"
     },
     "output_type": "display_data"
    }
   ],
   "source": [
    "states = pkg.reference('us_states').geoframe().to_crs(4326)\n",
    "continental_states = states[~states.stusps.isin(['HI','AK','PR','VI','MP','GU','AS'])]\n",
    "continental_states.plot(figsize=(10,10))\n",
    "us_boundary = continental_states.unary_union"
   ]
  },
  {
   "cell_type": "code",
   "execution_count": 57,
   "metadata": {},
   "outputs": [],
   "source": [
    "t = gpd.sjoin(s, states )\n",
    "state_zones = t[['zone_r', 'stusps']].drop_duplicates().zone_r\n",
    "\n",
    "t = gpd.sjoin(s, continental_states )\n",
    "cstate_zones = t[['zone_r', 'stusps']].drop_duplicates().zone_r\n",
    "\n",
    "s['us_state'] = (s.zone_r.isin(state_zones)).astype(int)\n",
    "s['cus_state'] = (s.zone_r.isin(cstate_zones)).astype(int)"
   ]
  },
  {
   "cell_type": "code",
   "execution_count": 60,
   "metadata": {},
   "outputs": [
    {
     "data": {
      "text/plain": [
       "<AxesSubplot:>"
      ]
     },
     "execution_count": 60,
     "metadata": {},
     "output_type": "execute_result"
    },
    {
     "data": {
      "image/png": "[encoded data removed]",
      "text/plain": [
       "<Figure size 432x288 with 1 Axes>"
      ]
     },
     "metadata": {
      "needs_background": "light"
     },
     "output_type": "display_data"
    }
   ],
   "source": [
    "\n",
    "s.plot(column='cus_state')"
   ]
  },
  {
   "cell_type": "code",
   "execution_count": null,
   "metadata": {},
   "outputs": [],
   "source": []
  }
 ],
 "metadata": {
  "kernelspec": {
   "display_name": "Python 3",
   "language": "python",
   "name": "python3"
  },
  "language_info": {
   "codemirror_mode": {
    "name": "ipython",
    "version": 3
   },
   "file_extension": ".py",
   "mimetype": "text/x-python",
   "name": "python",
   "nbconvert_exporter": "python",
   "pygments_lexer": "ipython3",
   "version": "3.7.9"
  }
 },
 "nbformat": 4,
 "nbformat_minor": 4
}
