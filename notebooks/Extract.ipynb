{
 "cells": [
  {
   "cell_type": "code",
   "execution_count": 1,
   "metadata": {},
   "outputs": [],
   "source": [
    "import seaborn as sns\n",
    "import metapack as mp\n",
    "import pandas as pd\n",
    "import geopandas as gpd\n",
    "import numpy as np\n",
    "import matplotlib.pyplot as plt\n",
    "from IPython.display import display \n",
    "from shapely.wkt import loads \n",
    "\n",
    "%matplotlib inline\n",
    "sns.set_context('notebook')\n",
    "mp.jupyter.init()\n"
   ]
  },
  {
   "cell_type": "code",
   "execution_count": 2,
   "metadata": {},
   "outputs": [
    {
     "data": {
      "text/html": [
       "<h1>MGRS/UTM Grid</h1>\n",
       "<p><code>civicknowledge.com-mgrs-1.1.3</code> Last Update: 2021-02-09T21:31:43</p>\n",
       "<p><em>Military Grid Reference System grid polygons</em></p>\n",
       "<h2>Contacts</h2>\n",
       "<ul>\n",
       "<li><strong>Wrangler</strong> <a href=\"mailto:eric@civicknowledge.com\">Eric Busboom</a>, <a href=\"http://civicknowledge.com\">Civic Knowledge</a></li>\n",
       "</ul>\n",
       "<h2>Resources</h2>\n",
       "<ul>\n",
       "<li><strong> <a href=\"notebooks/Extract.ipynb#s\">utm_grid</a></strong>. UTM Grid polygons, with links to US states</li>\n",
       "</ul>\n",
       "<h2>References</h2>\n",
       "<ul><li> <strong>utm_grid_source</string>, <em>data/utm-grid.csv</em>. </li><li> <strong>geohash_pkg</string>, <em>metapack+http://library.metatab.org/civicknowledge.com-geohash-us.csv</em>. </li><li> <strong>us_states</string>, <em>censusgeo://2019/5/US/state</em>. </li><ul>"
      ],
      "text/plain": [
       "# MGRS/UTM Grid\n",
       "`civicknowledge.com-mgrs-1.1.3` Last Update: 2021-02-09T21:31:43\n",
       "\n",
       "_Military Grid Reference System grid polygons_\n",
       "\n",
       "\n",
       "\n",
       "\n",
       " \n",
       "\n",
       "## Contacts\n",
       "\n",
       "* **Wrangler** [Eric Busboom](mailto:eric@civicknowledge.com), [Civic Knowledge](http://civicknowledge.com)\n",
       "\n",
       "## Resources\n",
       "\n",
       "* ** [utm_grid](notebooks/Extract.ipynb#s)**. UTM Grid polygons, with links to US states\n",
       "\n",
       "## References\n",
       "<ul><li> <strong>utm_grid_source</string>, <em>data/utm-grid.csv</em>. </li><li> <strong>geohash_pkg</string>, <em>metapack+http://library.metatab.org/civicknowledge.com-geohash-us.csv</em>. </li><li> <strong>us_states</string>, <em>censusgeo://2019/5/US/state</em>. </li><ul>\n"
      ]
     },
     "execution_count": 2,
     "metadata": {},
     "output_type": "execute_result"
    }
   ],
   "source": [
    "#pkg = mp.jupyter.open_package()\n",
    "pkg = mp.jupyter.open_source_package()\n",
    "pkg"
   ]
  },
  {
   "cell_type": "code",
   "execution_count": 5,
   "metadata": {},
   "outputs": [],
   "source": [
    "s = pkg.reference('utm_grid_source').dataframe()\n",
    "s.columns = ['geometry','fid','band','row','west_value','cm_value','east_value']\n",
    "s['geometry'] = s.geometry.apply(loads)\n",
    "s = s[s.west_value != 'NoZN']\n",
    "s = gpd.GeoDataFrame(s, geometry='geometry', crs=4326)\n",
    "s['zone'] = s.apply(lambda r: f\"{r.band:02d}{r.row}\", axis=1)\n",
    "s = s.drop(columns=['fid']).sort_values('zone')\n",
    "\n",
    "import warnings\n",
    "\n",
    "with warnings.catch_warnings():\n",
    "    warnings.simplefilter(\"ignore\")\n",
    "    s.centroid.y\n",
    "\n",
    "def _epsg(r):\n",
    "    if r.geometry.centroid.y >= 0:\n",
    "        return f\"326{r.band:02d}\"\n",
    "    else:\n",
    "        return f\"327{r.band:02d}\"\n",
    "        \n",
    "    \n",
    "s['epsg'] = s.apply(_epsg, axis=1).astype(int)\n"
   ]
  },
  {
   "cell_type": "code",
   "execution_count": null,
   "metadata": {},
   "outputs": [],
   "source": [
    "s.epsg.unique()"
   ]
  },
  {
   "cell_type": "code",
   "execution_count": null,
   "metadata": {},
   "outputs": [],
   "source": [
    "states = pkg.reference('us_states').geoframe().to_crs(4326)\n",
    "continental_states = states[~states.stusps.isin(['HI','AK','PR','VI','MP','GU','AS'])]\n",
    "continental_states.plot(figsize=(10,10))\n",
    "us_boundary = continental_states.unary_union"
   ]
  },
  {
   "cell_type": "code",
   "execution_count": null,
   "metadata": {},
   "outputs": [],
   "source": [
    "t = gpd.sjoin(s, states )\n",
    "state_zones = t[['zone', 'stusps']].drop_duplicates().zone\n",
    "\n",
    "t = gpd.sjoin(s, continental_states )\n",
    "cstate_zones = t[['zone', 'stusps']].drop_duplicates().zone\n",
    "\n",
    "s['us_state'] = (s.zone.isin(state_zones)).astype(int)\n",
    "s['cus_state'] = (s.zone.isin(cstate_zones)).astype(int)"
   ]
  },
  {
   "cell_type": "code",
   "execution_count": null,
   "metadata": {},
   "outputs": [],
   "source": [
    "\n",
    "s.plot(column='cus_state')"
   ]
  },
  {
   "cell_type": "code",
   "execution_count": null,
   "metadata": {},
   "outputs": [],
   "source": [
    "s.head()"
   ]
  },
  {
   "cell_type": "code",
   "execution_count": null,
   "metadata": {},
   "outputs": [],
   "source": []
  }
 ],
 "metadata": {
  "kernelspec": {
   "display_name": "Python 3",
   "language": "python",
   "name": "python3"
  },
  "language_info": {
   "codemirror_mode": {
    "name": "ipython",
    "version": 3
   },
   "file_extension": ".py",
   "mimetype": "text/x-python",
   "name": "python",
   "nbconvert_exporter": "python",
   "pygments_lexer": "ipython3",
   "version": "3.7.9"
  }
 },
 "nbformat": 4,
 "nbformat_minor": 4
}
